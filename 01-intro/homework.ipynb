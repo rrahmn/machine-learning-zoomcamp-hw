{
 "cells": [
  {
   "cell_type": "code",
   "execution_count": 186,
   "id": "2fd2a82b",
   "metadata": {},
   "outputs": [],
   "source": [
    "import pandas as pd\n",
    "import numpy as np"
   ]
  },
  {
   "cell_type": "markdown",
   "id": "58018cc8",
   "metadata": {},
   "source": [
    "Q1. Pandas version"
   ]
  },
  {
   "cell_type": "code",
   "execution_count": 187,
   "id": "d592e21e",
   "metadata": {},
   "outputs": [
    {
     "name": "stdout",
     "output_type": "stream",
     "text": [
      "2.3.3\n"
     ]
    }
   ],
   "source": [
    "print(pd.__version__)"
   ]
  },
  {
   "cell_type": "markdown",
   "id": "86f6e9cb",
   "metadata": {},
   "source": [
    "Q2. Records count"
   ]
  },
  {
   "cell_type": "code",
   "execution_count": 188,
   "id": "bdc09878",
   "metadata": {},
   "outputs": [],
   "source": [
    "df = pd.read_csv('https://raw.githubusercontent.com/alexeygrigorev/datasets/master/car_fuel_efficiency.csv')"
   ]
  },
  {
   "cell_type": "code",
   "execution_count": 189,
   "id": "8fa1bf83",
   "metadata": {},
   "outputs": [
    {
     "name": "stdout",
     "output_type": "stream",
     "text": [
      "9704\n"
     ]
    }
   ],
   "source": [
    "print(len(df))"
   ]
  },
  {
   "cell_type": "markdown",
   "id": "15cd6e8f",
   "metadata": {},
   "source": [
    "Q3. Fuel types"
   ]
  },
  {
   "cell_type": "code",
   "execution_count": 190,
   "id": "50b4470b",
   "metadata": {},
   "outputs": [
    {
     "data": {
      "text/plain": [
       "2"
      ]
     },
     "execution_count": 190,
     "metadata": {},
     "output_type": "execute_result"
    }
   ],
   "source": [
    "len(df['fuel_type'].unique())"
   ]
  },
  {
   "cell_type": "markdown",
   "id": "3375200c",
   "metadata": {},
   "source": [
    "Q4. Missing values"
   ]
  },
  {
   "cell_type": "code",
   "execution_count": 191,
   "id": "9f13709a",
   "metadata": {},
   "outputs": [
    {
     "data": {
      "text/plain": [
       "4"
      ]
     },
     "execution_count": 191,
     "metadata": {},
     "output_type": "execute_result"
    }
   ],
   "source": [
    "len([col for col in df.columns if df[col].isnull().any()])"
   ]
  },
  {
   "cell_type": "markdown",
   "id": "047c263a",
   "metadata": {},
   "source": [
    "Q5. Max fuel efficiency"
   ]
  },
  {
   "cell_type": "code",
   "execution_count": 192,
   "id": "abe75bc6",
   "metadata": {},
   "outputs": [
    {
     "data": {
      "text/plain": [
       "23.759122836520497"
      ]
     },
     "execution_count": 192,
     "metadata": {},
     "output_type": "execute_result"
    }
   ],
   "source": [
    "float(df[df[\"origin\"] == \"Asia\"][\"fuel_efficiency_mpg\"].max())"
   ]
  },
  {
   "cell_type": "markdown",
   "id": "ccccae85",
   "metadata": {},
   "source": [
    "Q6. Median value of horsepower"
   ]
  },
  {
   "cell_type": "code",
   "execution_count": 193,
   "id": "6476fb8d",
   "metadata": {},
   "outputs": [
    {
     "name": "stdout",
     "output_type": "stream",
     "text": [
      "Previous median: 149.0\n"
     ]
    }
   ],
   "source": [
    "previous_median = float(df[\"horsepower\"].median())\n",
    "print(\"Previous median:\", previous_median)"
   ]
  },
  {
   "cell_type": "code",
   "execution_count": 194,
   "id": "e2335347",
   "metadata": {},
   "outputs": [
    {
     "name": "stdout",
     "output_type": "stream",
     "text": [
      "Most frequent horsepower: 152.0\n"
     ]
    }
   ],
   "source": [
    "mode_value = float(df[\"horsepower\"].mode()[0])\n",
    "print(\"Most frequent horsepower:\", mode_value)"
   ]
  },
  {
   "cell_type": "code",
   "execution_count": 195,
   "id": "e75a0c07",
   "metadata": {},
   "outputs": [],
   "source": [
    "df[\"horsepower\"] = df[\"horsepower\"].fillna(mode_value)"
   ]
  },
  {
   "cell_type": "code",
   "execution_count": 196,
   "id": "9ecbe9ee",
   "metadata": {},
   "outputs": [
    {
     "name": "stdout",
     "output_type": "stream",
     "text": [
      "New median: 152.0\n"
     ]
    }
   ],
   "source": [
    "new_median = float(df[\"horsepower\"].median())\n",
    "print(\"New median:\", new_median)"
   ]
  },
  {
   "cell_type": "markdown",
   "id": "434d9d46",
   "metadata": {},
   "source": [
    "Q7. Sum of weights"
   ]
  },
  {
   "cell_type": "code",
   "execution_count": 197,
   "id": "05b7f2d0",
   "metadata": {},
   "outputs": [
    {
     "data": {
      "text/html": [
       "<div>\n",
       "<style scoped>\n",
       "    .dataframe tbody tr th:only-of-type {\n",
       "        vertical-align: middle;\n",
       "    }\n",
       "\n",
       "    .dataframe tbody tr th {\n",
       "        vertical-align: top;\n",
       "    }\n",
       "\n",
       "    .dataframe thead th {\n",
       "        text-align: right;\n",
       "    }\n",
       "</style>\n",
       "<table border=\"1\" class=\"dataframe\">\n",
       "  <thead>\n",
       "    <tr style=\"text-align: right;\">\n",
       "      <th></th>\n",
       "      <th>vehicle_weight</th>\n",
       "      <th>model_year</th>\n",
       "    </tr>\n",
       "  </thead>\n",
       "  <tbody>\n",
       "    <tr>\n",
       "      <th>8</th>\n",
       "      <td>2714.219310</td>\n",
       "      <td>2016</td>\n",
       "    </tr>\n",
       "    <tr>\n",
       "      <th>12</th>\n",
       "      <td>2783.868974</td>\n",
       "      <td>2010</td>\n",
       "    </tr>\n",
       "    <tr>\n",
       "      <th>14</th>\n",
       "      <td>3582.687368</td>\n",
       "      <td>2007</td>\n",
       "    </tr>\n",
       "    <tr>\n",
       "      <th>20</th>\n",
       "      <td>2231.808142</td>\n",
       "      <td>2011</td>\n",
       "    </tr>\n",
       "    <tr>\n",
       "      <th>21</th>\n",
       "      <td>2659.431451</td>\n",
       "      <td>2016</td>\n",
       "    </tr>\n",
       "    <tr>\n",
       "      <th>34</th>\n",
       "      <td>2844.227534</td>\n",
       "      <td>2014</td>\n",
       "    </tr>\n",
       "    <tr>\n",
       "      <th>38</th>\n",
       "      <td>3761.994038</td>\n",
       "      <td>2019</td>\n",
       "    </tr>\n",
       "  </tbody>\n",
       "</table>\n",
       "</div>"
      ],
      "text/plain": [
       "    vehicle_weight  model_year\n",
       "8      2714.219310        2016\n",
       "12     2783.868974        2010\n",
       "14     3582.687368        2007\n",
       "20     2231.808142        2011\n",
       "21     2659.431451        2016\n",
       "34     2844.227534        2014\n",
       "38     3761.994038        2019"
      ]
     },
     "execution_count": 197,
     "metadata": {},
     "output_type": "execute_result"
    }
   ],
   "source": [
    "df_selection = df[df[\"origin\"] == \"Asia\"][[\"vehicle_weight\", \"model_year\"]].head(7)\n",
    "df_selection"
   ]
  },
  {
   "cell_type": "code",
   "execution_count": 198,
   "id": "adf8ef84",
   "metadata": {},
   "outputs": [],
   "source": [
    "X = df_selection.to_numpy(dtype=float)\n",
    "XTX = X.T@X"
   ]
  },
  {
   "cell_type": "code",
   "execution_count": 199,
   "id": "7c11be51",
   "metadata": {},
   "outputs": [],
   "source": [
    "XTX_inv = np.linalg.inv(XTX)"
   ]
  },
  {
   "cell_type": "code",
   "execution_count": 200,
   "id": "4d94d488",
   "metadata": {},
   "outputs": [],
   "source": [
    "y = np.array([1100, 1300, 800, 900, 1000, 1100, 1200], dtype=float)"
   ]
  },
  {
   "cell_type": "code",
   "execution_count": 201,
   "id": "c052437b",
   "metadata": {},
   "outputs": [
    {
     "data": {
      "text/plain": [
       "np.float64(0.5187709081074016)"
      ]
     },
     "execution_count": 201,
     "metadata": {},
     "output_type": "execute_result"
    }
   ],
   "source": [
    "w = XTX_inv @ X.T @ y\n",
    "sum_w = w.sum()\n",
    "sum_w"
   ]
  }
 ],
 "metadata": {
  "kernelspec": {
   "display_name": "mlzoomcamp",
   "language": "python",
   "name": "python3"
  },
  "language_info": {
   "codemirror_mode": {
    "name": "ipython",
    "version": 3
   },
   "file_extension": ".py",
   "mimetype": "text/x-python",
   "name": "python",
   "nbconvert_exporter": "python",
   "pygments_lexer": "ipython3",
   "version": "3.10.18"
  }
 },
 "nbformat": 4,
 "nbformat_minor": 5
}

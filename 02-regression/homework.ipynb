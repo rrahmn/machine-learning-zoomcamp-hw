{
 "cells": [
  {
   "cell_type": "code",
   "execution_count": 108,
   "id": "9b052618",
   "metadata": {},
   "outputs": [],
   "source": [
    "import pandas as pd\n",
    "import numpy as np\n",
    "\n",
    "import seaborn as sns\n",
    "from matplotlib import pyplot as plt\n",
    "%matplotlib inline"
   ]
  },
  {
   "cell_type": "markdown",
   "id": "efe530c5",
   "metadata": {},
   "source": [
    "### Preparing the dataset \n",
    "\n",
    "Use only the following columns:\n",
    "\n",
    "* `'engine_displacement'`,\n",
    "* `'horsepower'`,\n",
    "* `'vehicle_weight'`,\n",
    "* `'model_year'`,\n",
    "* `'fuel_efficiency_mpg'`"
   ]
  },
  {
   "cell_type": "code",
   "execution_count": 109,
   "id": "ef9176a3",
   "metadata": {},
   "outputs": [],
   "source": [
    "df = pd.read_csv('https://raw.githubusercontent.com/alexeygrigorev/datasets/master/car_fuel_efficiency.csv')\n",
    "base = ['engine_displacement','horsepower','vehicle_weight','model_year','fuel_efficiency_mpg']\n",
    "df = df[base]"
   ]
  },
  {
   "cell_type": "markdown",
   "id": "62f4b255",
   "metadata": {},
   "source": [
    "### EDA\n",
    "\n",
    "* Look at the `fuel_efficiency_mpg` variable. Does it have a long tail? "
   ]
  },
  {
   "cell_type": "code",
   "execution_count": 110,
   "id": "4fe071b7",
   "metadata": {},
   "outputs": [
    {
     "data": {
      "image/png": "[encoded data removed]",
      "text/plain": [
       "<Figure size 600x400 with 1 Axes>"
      ]
     },
     "metadata": {},
     "output_type": "display_data"
    }
   ],
   "source": [
    "plt.figure(figsize=(6, 4))\n",
    "\n",
    "sns.histplot(df.fuel_efficiency_mpg, bins=40, color='black', alpha=1)\n",
    "plt.ylabel('Frequency')\n",
    "plt.xlabel('Fuel Efficiency (mpg)')\n",
    "plt.title('Distribution of fuel efficiency')\n",
    "\n",
    "plt.show()"
   ]
  },
  {
   "cell_type": "markdown",
   "id": "f583ca62",
   "metadata": {},
   "source": [
    "Does not have a long tail"
   ]
  },
  {
   "cell_type": "markdown",
   "id": "0dc43795",
   "metadata": {},
   "source": [
    "### Question 1\n",
    "\n",
    "There's one column with missing values. What is it?"
   ]
  },
  {
   "cell_type": "code",
   "execution_count": 111,
   "id": "8b9069f6",
   "metadata": {},
   "outputs": [
    {
     "data": {
      "text/plain": [
       "engine_displacement      0\n",
       "horsepower             708\n",
       "vehicle_weight           0\n",
       "model_year               0\n",
       "fuel_efficiency_mpg      0\n",
       "dtype: int64"
      ]
     },
     "execution_count": 111,
     "metadata": {},
     "output_type": "execute_result"
    }
   ],
   "source": [
    "df.isnull().sum()"
   ]
  },
  {
   "cell_type": "markdown",
   "id": "3e7f9081",
   "metadata": {},
   "source": [
    "horsepower has 708 missing values."
   ]
  },
  {
   "cell_type": "markdown",
   "id": "3a5e4940",
   "metadata": {},
   "source": [
    "### Question 2\n",
    "\n",
    "What's the median (50% percentile) for variable `'horsepower'`?"
   ]
  },
  {
   "cell_type": "code",
   "execution_count": 112,
   "id": "3f658c77",
   "metadata": {},
   "outputs": [
    {
     "data": {
      "text/plain": [
       "149.0"
      ]
     },
     "execution_count": 112,
     "metadata": {},
     "output_type": "execute_result"
    }
   ],
   "source": [
    "float(df.horsepower.median())"
   ]
  },
  {
   "cell_type": "markdown",
   "id": "42050d7c",
   "metadata": {},
   "source": [
    "### Prepare and split the dataset\n",
    "\n",
    "* Shuffle the dataset (the filtered one you created above), use seed `42`.\n",
    "* Split your data in train/val/test sets, with 60%/20%/20% distribution.\n",
    "\n",
    "Use the same code as in the lectures"
   ]
  },
  {
   "cell_type": "code",
   "execution_count": 113,
   "id": "50667c5a",
   "metadata": {},
   "outputs": [],
   "source": [
    "def prepare_and_split(df, seed):\n",
    "    df = df.copy()\n",
    "    np.random.seed(seed)\n",
    "    n = len(df)\n",
    "    n_val = int(0.2 * n)\n",
    "    n_test = int(0.2 * n)\n",
    "    n_train = n - (n_val + n_test)\n",
    "    idx = np.arange(n)\n",
    "    np.random.shuffle(idx)\n",
    "    df_shuffled = df.iloc[idx]\n",
    "    df_train = df_shuffled.iloc[:n_train].copy().reset_index(drop = True)\n",
    "    df_val = df_shuffled.iloc[n_train:n_train+n_val].copy().reset_index(drop = True)\n",
    "    df_test = df_shuffled.iloc[n_train+n_val:].copy().reset_index(drop = True)\n",
    "    return df_train, df_val, df_test\n",
    "\n",
    "def prepare_X_y(df, fill_value=0):\n",
    "    df = df.copy()\n",
    "    df = df.fillna(fill_value)\n",
    "    y = df.fuel_efficiency_mpg.values\n",
    "    X = df.loc[ : , df.columns != 'fuel_efficiency_mpg'].values\n",
    "    return X, y\n",
    "\n",
    "def train_linear_regression_reg(X, y, r=0.0):\n",
    "    ones = np.ones(X.shape[0])\n",
    "    X = np.column_stack([ones, X])\n",
    "\n",
    "    XTX = X.T.dot(X)\n",
    "    reg = r * np.eye(XTX.shape[0])\n",
    "    XTX = XTX + reg\n",
    "\n",
    "    XTX_inv = np.linalg.inv(XTX)\n",
    "    w = XTX_inv.dot(X.T).dot(y)\n",
    "    \n",
    "    return w[0], w[1:]\n",
    "\n",
    "def rmse(y, y_pred):\n",
    "    error = y_pred - y\n",
    "    mse = (error ** 2).mean()\n",
    "    return np.sqrt(mse)\n"
   ]
  },
  {
   "cell_type": "code",
   "execution_count": 114,
   "id": "f8c34e39",
   "metadata": {},
   "outputs": [],
   "source": [
    "df_train, df_val, df_test = prepare_and_split(df = df, seed = 42)"
   ]
  },
  {
   "cell_type": "markdown",
   "id": "13b396fb",
   "metadata": {},
   "source": [
    "### Question 3\n",
    "\n",
    "* We need to deal with missing values for the column from Q1.\n",
    "* We have two options: fill it with 0 or with the mean of this variable.\n",
    "* Try both options. For each, train a linear regression model without regularization using the code from the lessons.\n",
    "* For computing the mean, use the training only!\n",
    "* Use the validation dataset to evaluate the models and compare the RMSE of each option.\n",
    "* Round the RMSE scores to 2 decimal digits using `round(score, 2)`\n",
    "* Which option gives better RMSE?"
   ]
  },
  {
   "cell_type": "code",
   "execution_count": 115,
   "id": "d44cb279",
   "metadata": {},
   "outputs": [
    {
     "data": {
      "text/plain": [
       "149.54476367006487"
      ]
     },
     "execution_count": 115,
     "metadata": {},
     "output_type": "execute_result"
    }
   ],
   "source": [
    "horsepower_mean = float(df_train.horsepower.mean())\n",
    "horsepower_mean"
   ]
  },
  {
   "cell_type": "code",
   "execution_count": 116,
   "id": "bf13f6d7",
   "metadata": {},
   "outputs": [
    {
     "data": {
      "text/plain": [
       "0.52"
      ]
     },
     "execution_count": 116,
     "metadata": {},
     "output_type": "execute_result"
    }
   ],
   "source": [
    "# Option 1\n",
    "\n",
    "# Train\n",
    "X_train, y_train = prepare_X_y(df_train, fill_value=0)\n",
    "X_val, y_val = prepare_X_y(df_val, fill_value=0)\n",
    "\n",
    "w_0, w = train_linear_regression_reg(X_train, y_train)\n",
    "y_pred = w_0 + X_val.dot(w)\n",
    "# Validate\n",
    "score_opt1 = float(round(rmse(y_val, y_pred), 2))\n",
    "score_opt1\n"
   ]
  },
  {
   "cell_type": "code",
   "execution_count": 117,
   "id": "fce7e4e5",
   "metadata": {},
   "outputs": [
    {
     "data": {
      "text/plain": [
       "0.46"
      ]
     },
     "execution_count": 117,
     "metadata": {},
     "output_type": "execute_result"
    }
   ],
   "source": [
    "# Option 2\n",
    "\n",
    "# Train\n",
    "X_train, y_train = prepare_X_y(df_train, fill_value=horsepower_mean)\n",
    "X_val, y_val = prepare_X_y(df_val, fill_value=horsepower_mean)\n",
    "\n",
    "w_0, w = train_linear_regression_reg(X_train, y_train)\n",
    "y_pred = w_0 + X_val.dot(w)\n",
    "# Validate\n",
    "score_opt2 = float(round(rmse(y_val, y_pred), 2))\n",
    "score_opt2"
   ]
  },
  {
   "cell_type": "markdown",
   "id": "ab04f1d9",
   "metadata": {},
   "source": [
    "Replacing the nan with the mean gives the lower RMSE"
   ]
  },
  {
   "cell_type": "markdown",
   "id": "23af7363",
   "metadata": {},
   "source": [
    "### Question 4\n",
    "\n",
    "* Now let's train a regularized linear regression.\n",
    "* For this question, fill the NAs with 0. \n",
    "* Try different values of `r` from this list: `[0, 0.01, 0.1, 1, 5, 10, 100]`.\n",
    "* Use RMSE to evaluate the model on the validation dataset.\n",
    "* Round the RMSE scores to 2 decimal digits.\n",
    "* Which `r` gives the best RMSE?\n",
    "\n",
    "If multiple options give the same best RMSE, select the smallest `r`."
   ]
  },
  {
   "cell_type": "code",
   "execution_count": 118,
   "id": "29f16043",
   "metadata": {},
   "outputs": [
    {
     "name": "stdout",
     "output_type": "stream",
     "text": [
      "For regularisation with r = 0, we get RMSE = 0.52\n",
      "For regularisation with r = 0.01, we get RMSE = 0.52\n",
      "For regularisation with r = 0.1, we get RMSE = 0.52\n",
      "For regularisation with r = 1, we get RMSE = 0.52\n",
      "For regularisation with r = 5, we get RMSE = 0.52\n",
      "For regularisation with r = 10, we get RMSE = 0.52\n",
      "For regularisation with r = 100, we get RMSE = 0.52\n"
     ]
    }
   ],
   "source": [
    "X_train, y_train = prepare_X_y(df_train, fill_value=0)\n",
    "X_val, y_val = prepare_X_y(df_val, fill_value=0)\n",
    "for r in [0, 0.01, 0.1, 1, 5, 10, 100]:\n",
    "    # Train\n",
    "    w_0, w = train_linear_regression_reg(X_train, y_train, r=r)\n",
    "    y_pred = w_0 + X_val.dot(w)\n",
    "    # Validate\n",
    "    score = float(round(rmse(y_val, y_pred), 2))\n",
    "    print(f\"For regularisation with r = {r}, we get RMSE = {score}\")"
   ]
  },
  {
   "cell_type": "markdown",
   "id": "dded9a9b",
   "metadata": {},
   "source": [
    "r = 0 has the best regularisation"
   ]
  },
  {
   "cell_type": "markdown",
   "id": "f1f4a34a",
   "metadata": {},
   "source": [
    "### Question 5 \n",
    "\n",
    "* We used seed 42 for splitting the data. Let's find out how selecting the seed influences our score.\n",
    "* Try different seed values: `[0, 1, 2, 3, 4, 5, 6, 7, 8, 9]`.\n",
    "* For each seed, do the train/validation/test split with 60%/20%/20% distribution.\n",
    "* Fill the missing values with 0 and train a model without regularization.\n",
    "* For each seed, evaluate the model on the validation dataset and collect the RMSE scores. \n",
    "* What's the standard deviation of all the scores? To compute the standard deviation, use `np.std`.\n",
    "* Round the result to 3 decimal digits (`round(std, 3)`)"
   ]
  },
  {
   "cell_type": "code",
   "execution_count": 119,
   "id": "8f420e41",
   "metadata": {},
   "outputs": [
    {
     "data": {
      "text/plain": [
       "0.007"
      ]
     },
     "execution_count": 119,
     "metadata": {},
     "output_type": "execute_result"
    }
   ],
   "source": [
    "rmse_scores = []\n",
    "for seed in [0, 1, 2, 3, 4, 5, 6, 7, 8, 9]:\n",
    "    df_train, df_val, df_test = prepare_and_split(df = df, seed = seed)\n",
    "    X_train, y_train = prepare_X_y(df_train, fill_value=0)\n",
    "    X_val, y_val = prepare_X_y(df_val, fill_value=0)\n",
    "    # Train\n",
    "    w_0, w = train_linear_regression_reg(X_train, y_train, r=0)\n",
    "    y_pred = w_0 + X_val.dot(w)\n",
    "    # Validate\n",
    "    score = float(rmse(y_val, y_pred))\n",
    "    rmse_scores.append(score)\n",
    "\n",
    "std_rmse_scores = float(round(np.std(rmse_scores), 3))\n",
    "std_rmse_scores"
   ]
  }
 ],
 "metadata": {
  "kernelspec": {
   "display_name": "mlzoomcamp",
   "language": "python",
   "name": "python3"
  },
  "language_info": {
   "codemirror_mode": {
    "name": "ipython",
    "version": 3
   },
   "file_extension": ".py",
   "mimetype": "text/x-python",
   "name": "python",
   "nbconvert_exporter": "python",
   "pygments_lexer": "ipython3",
   "version": "3.10.18"
  }
 },
 "nbformat": 4,
 "nbformat_minor": 5
}
